{
 "cells": [
  {
   "cell_type": "code",
   "execution_count": 1,
   "id": "e2c8a15b",
   "metadata": {},
   "outputs": [],
   "source": [
    "import json\n",
    "from collections import defaultdict\n",
    "from copy import deepcopy"
   ]
  },
  {
   "cell_type": "code",
   "execution_count": 2,
   "id": "71d15df5",
   "metadata": {},
   "outputs": [],
   "source": [
    "def merge_annotations(annotation_lists):\n",
    "    grouped = defaultdict(list)\n",
    "\n",
    "    for annotation in annotation_lists:\n",
    "        key = json.dumps({\n",
    "            \"title\": annotation[\"title\"],\n",
    "            \"location\": annotation[\"location\"]\n",
    "        }, ensure_ascii=False, sort_keys=True)\n",
    "        grouped[key].append(annotation)\n",
    "\n",
    "    merged = []\n",
    "    for group in grouped.values():\n",
    "        base = deepcopy(group[0])\n",
    "\n",
    "        # Remove top-level annotation fields, including \"id\"\n",
    "        for field in [\"id\", \"sentiment\", \"annotator\", \"annotation_id\", \"created_at\", \"updated_at\", \"lead_time\"]:\n",
    "            base.pop(field, None)\n",
    "\n",
    "        base[\"labels\"] = []\n",
    "        for entry in group:\n",
    "            label = {\n",
    "                \"id\": entry.get(\"id\"),\n",
    "                \"sentiment\": entry.get(\"sentiment\"),\n",
    "                \"annotator\": entry.get(\"annotator\"),\n",
    "                \"annotation_id\": entry.get(\"annotation_id\"),\n",
    "                \"created_at\": entry.get(\"created_at\"),\n",
    "                \"updated_at\": entry.get(\"updated_at\"),\n",
    "                \"lead_time\": entry.get(\"lead_time\")\n",
    "            }\n",
    "            base[\"labels\"].append(label)\n",
    "\n",
    "        merged.append(base)\n",
    "\n",
    "    return merged\n"
   ]
  },
  {
   "cell_type": "code",
   "execution_count": 4,
   "id": "c94f446f",
   "metadata": {},
   "outputs": [],
   "source": [
    "input_files = [\"Annotation/Hosein-Output.json\", \"Annotation/Farnoosh-Output.json\"]\n",
    "all_annotations = []\n",
    "\n",
    "for file in input_files:\n",
    "    with open(file, \"r\", encoding=\"utf-8\") as f:\n",
    "        data = json.load(f)\n",
    "        all_annotations.extend(data)\n",
    "\n",
    "merged_output = merge_annotations(all_annotations)\n",
    "\n",
    "with open(\"merged_output.json\", \"w\", encoding=\"utf-8\") as f:\n",
    "    json.dump(merged_output, f, ensure_ascii=False, indent=2)"
   ]
  },
  {
   "cell_type": "code",
   "execution_count": null,
   "id": "6d37c9dc",
   "metadata": {},
   "outputs": [],
   "source": []
  }
 ],
 "metadata": {
  "kernelspec": {
   "display_name": "nlphw1",
   "language": "python",
   "name": "python3"
  },
  "language_info": {
   "codemirror_mode": {
    "name": "ipython",
    "version": 3
   },
   "file_extension": ".py",
   "mimetype": "text/x-python",
   "name": "python",
   "nbconvert_exporter": "python",
   "pygments_lexer": "ipython3",
   "version": "3.12.0"
  }
 },
 "nbformat": 4,
 "nbformat_minor": 5
}
