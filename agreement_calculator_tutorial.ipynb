{
 "cells": [
  {
   "cell_type": "code",
   "execution_count": 1,
   "id": "2f7d58b4",
   "metadata": {},
   "outputs": [],
   "source": [
    "from sklearn.metrics import cohen_kappa_score\n",
    "import numpy as np\n",
    "from itertools import combinations"
   ]
  },
  {
   "cell_type": "markdown",
   "id": "edc6b3d7",
   "metadata": {},
   "source": [
    "### Binary Vector Kappa Coefficient\n",
    "**Per-Label Cohen's Kappa**:\n",
    "\n",
    "Let:\n",
    "- *Po* = Observed agreement (proportion of items where annotators agree on presence/absence of the label)\n",
    "- *Pe* = Expected agreement by chance\n",
    "\n",
    "Then:\n",
    "\n",
    "$$\n",
    "\\kappa = \\frac{P_o - P_e}{1 - P_e}\n",
    "$$\n",
    "\n",
    "\n",
    "1- It is computed for each label  \n",
    "2- Doesn't compare two sets of annotations  \n"
   ]
  },
  {
   "cell_type": "code",
   "execution_count": 2,
   "id": "f8604e8e",
   "metadata": {},
   "outputs": [],
   "source": [
    "#Test\n",
    "# Convert to binary vectors\n",
    "def to_binary_matrix(annotation_list, label_set):\n",
    "    binary_matrix = []\n",
    "    for labels in annotation_list:\n",
    "        row = [1 if label in labels else 0 for label in label_set]\n",
    "        binary_matrix.append(row)\n",
    "    return np.array(binary_matrix)"
   ]
  },
  {
   "cell_type": "code",
   "execution_count": 3,
   "id": "c262bd48",
   "metadata": {},
   "outputs": [
    {
     "name": "stdout",
     "output_type": "stream",
     "text": [
      "Kappa for label 'ok': 0.4000\n",
      "Kappa for label 'revise text structure': -0.5000\n",
      "Kappa for label 'revise picture': 1.0000\n"
     ]
    }
   ],
   "source": [
    "# All possible labels\n",
    "all_labels = [\"ok\", \"revise text structure\", \"revise picture\"]\n",
    "\n",
    "# Example annotations from two annotators for 3 samples\n",
    "annotations_annotator_1 = [[\"ok\"], [\"revise picture\", \"revise text structure\"], [\"ok\"]]\n",
    "annotations_annotator_2 = [[\"ok\"], [\"revise picture\"], [\"revise text structure\"]]\n",
    "\n",
    "A1 = to_binary_matrix(annotations_annotator_1, all_labels)\n",
    "A2 = to_binary_matrix(annotations_annotator_2, all_labels)\n",
    "\n",
    "# Compute Cohen's Kappa for each label\n",
    "for i, label in enumerate(all_labels):\n",
    "    kappa = cohen_kappa_score(A1[:, i], A2[:, i])\n",
    "    print(f\"Kappa for label '{label}': {kappa:.4f}\")\n"
   ]
  },
  {
   "cell_type": "markdown",
   "id": "dfb53651",
   "metadata": {},
   "source": [
    "### Jaccard Index\n",
    "\n",
    "**Jaccard Index Formula**:\n",
    "\n",
    "Let:\n",
    "- *A* = Annotation set by User1\n",
    "- *B* = Annotation set by User2\n",
    "  \n",
    "Then:\n",
    "\n",
    "$$\n",
    "J(A, B) = \\frac{|A \\cap B|}{|A \\cup B|}\n",
    "$$\n",
    "\n",
    "This measure the overlap between two annotation sets. It doesn't count chance of aggrement. Unlike the per label kappa coefficient it gives us a measure for two annotation sets not for each label.  "
   ]
  },
  {
   "cell_type": "markdown",
   "id": "3d2981d7",
   "metadata": {},
   "source": [
    "### Krippendorff’s Alpha with Jaccard Distance\n",
    "\n",
    "**Jaccard Similarity** (same as Jaccard Index):\n",
    "\n",
    "$$\n",
    "\\text{Jaccard}(A, B) = \\frac{|A \\cap B|}{|A \\cup B|}\n",
    "$$\n",
    "\n",
    "\n",
    "**Krippendorff's Alpha**:\n",
    "\n",
    "Let:\n",
    "- \\( D_o \\) = Observed disagreement\n",
    "- \\( D_e \\) = Expected disagreement by chance\n",
    "- \\( \\delta(a, b) \\) = Distance function between annotations \\( a \\) and \\( b \\)\n",
    "\n",
    "Then:\n",
    "\n",
    "$$\n",
    "\\alpha = 1 - \\frac{D_o}{D_e}\n",
    "$$\n",
    "\n",
    "Where:\n",
    "\n",
    "$$\n",
    "D_o = \\frac{\\sum_{i} \\sum_{j > i} w_{ij} \\cdot \\delta(a_i, a_j)^2}{\\sum_{i} \\sum_{j > i} w_{ij}}\n",
    "$$\n",
    "\n",
    "$$\n",
    "D_e = \\text{Expected disagreement based on observed label distributions}\n",
    "$$\n",
    "\n",
    "\n",
    "1- Gives us a measure for two sets of annotations  \n",
    "2- Overlap + Chance\n"
   ]
  },
  {
   "cell_type": "code",
   "execution_count": null,
   "id": "24e114fd",
   "metadata": {},
   "outputs": [],
   "source": [
    "def jaccard_distance(a, b):\n",
    "    if not a and not b:\n",
    "        return 0.0  # Identical (both empty)\n",
    "    return 1 - len(a & b) / len(a | b)"
   ]
  },
  {
   "cell_type": "code",
   "execution_count": 9,
   "id": "257d9f56",
   "metadata": {},
   "outputs": [],
   "source": [
    "# Krippendorff's alpha with custom distance\n",
    "def krippendorff_alpha(data, distance_metric):\n",
    "    \"\"\"\n",
    "    Computes Krippendorff’s alpha using a custom distance metric.\n",
    "    data: list of lists, [annotator][item]\n",
    "    \"\"\"\n",
    "    n_annotators = len(data)\n",
    "    n_items = len(data[0])\n",
    "\n",
    "    # Ensure all annotators rated same number of items\n",
    "    for row in data:\n",
    "        if len(row) != n_items:\n",
    "            raise ValueError(\"All annotators must have annotated the same number of items\")\n",
    "\n",
    "    # Transpose to [items][annotators]\n",
    "    item_annotations = list(map(list, zip(*data)))\n",
    "\n",
    "    # Observed disagreement\n",
    "    Do_num = 0.0\n",
    "    Do_den = 0\n",
    "    for annots in item_annotations:\n",
    "        clean_annots = [a for a in annots if a is not None]\n",
    "        if len(clean_annots) < 2:\n",
    "            continue\n",
    "        for a, b in combinations(clean_annots, 2):\n",
    "            d = distance_metric(a, b)\n",
    "            Do_num += d ** 2\n",
    "            Do_den += 1\n",
    "    Do = Do_num / Do_den if Do_den else 0\n",
    "\n",
    "    # Expected disagreement\n",
    "    all_annots = [a for annotator in data for a in annotator if a is not None]\n",
    "    De_num = 0.0\n",
    "    De_den = 0\n",
    "    for a, b in combinations(all_annots, 2):\n",
    "        d = distance_metric(a, b)\n",
    "        De_num += d ** 2\n",
    "        De_den += 1\n",
    "    De = De_num / De_den if De_den else 0\n",
    "\n",
    "    if De == 0:\n",
    "        return 1.0 if Do == 0 else float('nan')\n",
    "    return 1 - (Do / De)"
   ]
  },
  {
   "cell_type": "code",
   "execution_count": 14,
   "id": "3f26faaf",
   "metadata": {},
   "outputs": [
    {
     "name": "stdout",
     "output_type": "stream",
     "text": [
      "Krippendorff's alpha (Jaccard distance): 0.511\n"
     ]
    }
   ],
   "source": [
    "# Data format: Each row = one annotator, each column = one item\n",
    "# Each cell = a set of multilabel annotations\n",
    "data = [\n",
    "    [{\"ok\", \"revise text\"}, {\"revise text\", \"revise image\"}, {\"ok\"}, set()],         # Annotator 1\n",
    "    [{\"ok\", \"revise text\"}, {\"revise text\"}, {\"revise text\"}, set()]                # Annotator 2\n",
    "]\n",
    "\n",
    "alpha = krippendorff_alpha(data, jaccard_distance)\n",
    "print(f\"Krippendorff's alpha (Jaccard distance): {alpha:.3f}\")"
   ]
  },
  {
   "cell_type": "code",
   "execution_count": null,
   "id": "bca50f7c",
   "metadata": {},
   "outputs": [],
   "source": []
  }
 ],
 "metadata": {
  "kernelspec": {
   "display_name": "nlphw1",
   "language": "python",
   "name": "python3"
  },
  "language_info": {
   "codemirror_mode": {
    "name": "ipython",
    "version": 3
   },
   "file_extension": ".py",
   "mimetype": "text/x-python",
   "name": "python",
   "nbconvert_exporter": "python",
   "pygments_lexer": "ipython3",
   "version": "3.12.0"
  }
 },
 "nbformat": 4,
 "nbformat_minor": 5
}
