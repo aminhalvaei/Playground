{
 "cells": [
  {
   "cell_type": "code",
   "execution_count": 25,
   "id": "dd15a1ea",
   "metadata": {},
   "outputs": [],
   "source": [
    "import json\n",
    "import itertools\n",
    "from typing import List, Dict, Set\n",
    "from pathlib import Path\n",
    "from collections import defaultdict\n",
    "from sklearn.metrics import cohen_kappa_score"
   ]
  },
  {
   "cell_type": "markdown",
   "id": "b9aedf9b",
   "metadata": {},
   "source": [
    "### Per Label Cohen's Kappa Coefficient"
   ]
  },
  {
   "cell_type": "code",
   "execution_count": 2,
   "id": "964c7e7a",
   "metadata": {},
   "outputs": [],
   "source": [
    "# All possible labels\n",
    "all_labels = [\"ok\", \"revise text info\", \"revise text structure\", \"revise picture\"]"
   ]
  },
  {
   "cell_type": "code",
   "execution_count": 3,
   "id": "862de5e6",
   "metadata": {},
   "outputs": [],
   "source": [
    "def load_data(path):\n",
    "    with open(path, \"r\", encoding=\"utf-8\") as f:\n",
    "        return json.load(f)"
   ]
  },
  {
   "cell_type": "code",
   "execution_count": 4,
   "id": "40cd0588",
   "metadata": {},
   "outputs": [],
   "source": [
    "def extract_annotations_per_sample(data):\n",
    "    # Maps each sample to a dict of annotator -> set of labels\n",
    "    samples = []\n",
    "    for entry in data:\n",
    "        ann = defaultdict(set)\n",
    "        for label in entry.get(\"labels\", []):\n",
    "            sentiment = label[\"sentiment\"]\n",
    "            annotator = label[\"annotator\"]\n",
    "            # Handle single vs multiple sentiments\n",
    "            if isinstance(sentiment, str):\n",
    "                ann[annotator].add(sentiment)\n",
    "            elif isinstance(sentiment, dict) and \"choices\" in sentiment:\n",
    "                ann[annotator].update(sentiment[\"choices\"])\n",
    "        samples.append(ann)\n",
    "    return samples"
   ]
  },
  {
   "cell_type": "code",
   "execution_count": 5,
   "id": "9def823a",
   "metadata": {},
   "outputs": [],
   "source": [
    "def build_binary_matrix(samples, all_labels):\n",
    "    per_label_matrix = {label: ([], []) for label in all_labels}\n",
    "\n",
    "    for ann_dict in samples:\n",
    "        if len(ann_dict) != 2:\n",
    "            continue  # Skip if not exactly two annotators\n",
    "        a1, a2 = sorted(ann_dict.keys())  # Ensure consistent order\n",
    "\n",
    "        for label in all_labels:\n",
    "            per_label_matrix[label][0].append(1 if label in ann_dict[a1] else 0)\n",
    "            per_label_matrix[label][1].append(1 if label in ann_dict[a2] else 0)\n",
    "    \n",
    "    return per_label_matrix"
   ]
  },
  {
   "cell_type": "code",
   "execution_count": 6,
   "id": "e3187b58",
   "metadata": {},
   "outputs": [],
   "source": [
    "\n",
    "def calculate_per_label_kappa(per_label_matrix):\n",
    "    results = {}\n",
    "    for label, (ann1, ann2) in per_label_matrix.items():\n",
    "        if len(set(ann1 + ann2)) <= 1:\n",
    "            kappa = None  # No variability\n",
    "        else:\n",
    "            kappa = cohen_kappa_score(ann1, ann2)\n",
    "        results[label] = kappa\n",
    "    return results"
   ]
  },
  {
   "cell_type": "markdown",
   "id": "608e36ba",
   "metadata": {},
   "source": [
    "### Run to see Results"
   ]
  },
  {
   "cell_type": "code",
   "execution_count": 7,
   "id": "43068fca",
   "metadata": {},
   "outputs": [
    {
     "name": "stdout",
     "output_type": "stream",
     "text": [
      "ok: 0.524390243902439\n",
      "revise text info: 0.5575605979393723\n",
      "revise text structure: 0.6059624108878807\n",
      "revise picture: 0.18575029852726554\n"
     ]
    }
   ],
   "source": [
    "data = load_data(\"merged_output.json\")  # Replace with your actual file\n",
    "samples = extract_annotations_per_sample(data)\n",
    "matrix = build_binary_matrix(samples, all_labels)\n",
    "kappa_scores = calculate_per_label_kappa(matrix)\n",
    "\n",
    "# Display results\n",
    "for label, score in kappa_scores.items():\n",
    "    print(f\"{label}: {score if score is not None else 'undefined (no variance)'}\")"
   ]
  },
  {
   "cell_type": "markdown",
   "id": "add90c01",
   "metadata": {},
   "source": [
    "### Krippendorff’s Alpha with Jaccard Distance\n"
   ]
  },
  {
   "cell_type": "code",
   "execution_count": 18,
   "id": "7db694d6",
   "metadata": {},
   "outputs": [],
   "source": [
    "# Load data from a JSON file\n",
    "def load_annotations(file_path: str) -> List[List[Set[str]]]:\n",
    "    with open(file_path, \"r\", encoding=\"utf-8\") as f:\n",
    "        data = json.load(f)\n",
    "\n",
    "    annotations = []\n",
    "    for item in data:\n",
    "        label_sets = []\n",
    "        for label_entry in item[\"labels\"]:\n",
    "            sentiment = label_entry[\"sentiment\"]\n",
    "            if isinstance(sentiment, dict) and \"choices\" in sentiment:\n",
    "                labels = set(sentiment[\"choices\"])\n",
    "            else:\n",
    "                labels = {sentiment}\n",
    "            label_sets.append(labels)\n",
    "        annotations.append(label_sets)\n",
    "    return annotations"
   ]
  },
  {
   "cell_type": "code",
   "execution_count": 19,
   "id": "d0868ed4",
   "metadata": {},
   "outputs": [],
   "source": [
    "# Jaccard distance between two sets\n",
    "def jaccard_distance(set1: Set[str], set2: Set[str]) -> float:\n",
    "    if not set1 and not set2:\n",
    "        return 0.0  # both empty, so no disagreement\n",
    "    return 1 - len(set1 & set2) / len(set1 | set2)"
   ]
  },
  {
   "cell_type": "code",
   "execution_count": 20,
   "id": "d17ed8ea",
   "metadata": {},
   "outputs": [],
   "source": [
    "# Observed disagreement (Do)\n",
    "def observed_disagreement(units: List[List[Set[str]]]) -> float:\n",
    "    total_disagreement = 0.0\n",
    "    count = 0\n",
    "    for unit in units:\n",
    "        for (a, b) in itertools.combinations(unit, 2):\n",
    "            total_disagreement += jaccard_distance(a, b)\n",
    "            count += 1\n",
    "    return total_disagreement / count if count > 0 else 0.0\n"
   ]
  },
  {
   "cell_type": "code",
   "execution_count": 21,
   "id": "133df50d",
   "metadata": {},
   "outputs": [],
   "source": [
    "# Expected disagreement (De)\n",
    "def expected_disagreement(units: List[List[Set[str]]]) -> float:\n",
    "    all_annotations = list(itertools.chain.from_iterable(units))\n",
    "    total_disagreement = 0.0\n",
    "    count = 0\n",
    "    for (a, b) in itertools.combinations(all_annotations, 2):\n",
    "        total_disagreement += jaccard_distance(a, b)\n",
    "        count += 1\n",
    "    return total_disagreement / count if count > 0 else 0.0\n"
   ]
  },
  {
   "cell_type": "code",
   "execution_count": 22,
   "id": "d7afae7d",
   "metadata": {},
   "outputs": [],
   "source": [
    "# Krippendorff's Alpha using Jaccard distance\n",
    "def krippendorffs_alpha_jaccard(units: List[List[Set[str]]]) -> float:\n",
    "    Do = observed_disagreement(units)\n",
    "    De = expected_disagreement(units)\n",
    "    return 1 - Do / De if De != 0 else 1.0  # Perfect agreement if no expected disagreement\n"
   ]
  },
  {
   "cell_type": "markdown",
   "id": "aa3ac708",
   "metadata": {},
   "source": [
    "### Run to see Results"
   ]
  },
  {
   "cell_type": "code",
   "execution_count": 24,
   "id": "14fb9619",
   "metadata": {},
   "outputs": [
    {
     "name": "stdout",
     "output_type": "stream",
     "text": [
      "The krippendorff's alpha: 0.47767136229386586\n"
     ]
    }
   ],
   "source": [
    "file_path = \"merged_output.json\"\n",
    "units = load_annotations(file_path)\n",
    "alpha = krippendorffs_alpha_jaccard(units)\n",
    "print(f\"The krippendorff's alpha: {alpha}\")"
   ]
  },
  {
   "cell_type": "code",
   "execution_count": null,
   "id": "2249d255",
   "metadata": {},
   "outputs": [],
   "source": []
  }
 ],
 "metadata": {
  "kernelspec": {
   "display_name": "nlphw1",
   "language": "python",
   "name": "python3"
  },
  "language_info": {
   "codemirror_mode": {
    "name": "ipython",
    "version": 3
   },
   "file_extension": ".py",
   "mimetype": "text/x-python",
   "name": "python",
   "nbconvert_exporter": "python",
   "pygments_lexer": "ipython3",
   "version": "3.12.0"
  }
 },
 "nbformat": 4,
 "nbformat_minor": 5
}
