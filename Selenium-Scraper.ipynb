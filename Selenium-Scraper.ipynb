{
 "cells": [
  {
   "cell_type": "code",
   "execution_count": 1,
   "id": "0ae47223",
   "metadata": {},
   "outputs": [],
   "source": [
    "from selenium import webdriver\n",
    "from selenium.webdriver.common.by import By\n",
    "from selenium.webdriver.support.ui import WebDriverWait\n",
    "from selenium.webdriver.support import expected_conditions as EC\n",
    "import time"
   ]
  },
  {
   "cell_type": "code",
   "execution_count": 2,
   "id": "8d0dc0a7",
   "metadata": {},
   "outputs": [],
   "source": [
    "driver = webdriver.Edge()\n",
    "wait = WebDriverWait(driver, 10)"
   ]
  },
  {
   "cell_type": "code",
   "execution_count": null,
   "id": "a5e9b13c",
   "metadata": {},
   "outputs": [],
   "source": [
    "base_url = \"https://hesetazegi.ir/fa/food-culture/loc-isfahan?page={}\"\n",
    "page = 1\n",
    "\n",
    "while True:\n",
    "    print(f\"\\n--- Visiting page {page} ---\")\n",
    "    driver.get(base_url.format(page))\n",
    "    wait.until(EC.presence_of_all_elements_located((By.CSS_SELECTOR, \"a.group\")))\n",
    "\n",
    "    group_links = driver.find_elements(By.CSS_SELECTOR, \"a.group\")\n",
    "    group_urls = [link.get_attribute('href') for link in group_links if link.get_attribute('href')]\n",
    "\n",
    "    for url in group_urls:\n",
    "        print(f\"\\nVisiting group URL: {url}\")\n",
    "        driver.get(url)\n",
    "        try:\n",
    "            # Wait for the container to load\n",
    "            wait.until(EC.presence_of_element_located((By.CSS_SELECTOR, 'div.w-full.h-fit.rounded-xl.border.border-border-secondary')))\n",
    "        except:\n",
    "            print(\"No ingredient container found.\")\n",
    "            continue\n",
    "\n",
    "        # Find all ingredient rows\n",
    "        ingredient_rows = driver.find_elements(By.CSS_SELECTOR, \n",
    "            'div.w-full.h-fit.rounded-xl.border.border-border-secondary '\n",
    "            'div.flex.justify-between.p-3.w-full.h-fit.items-center'\n",
    "        )\n",
    "\n",
    "        for row in ingredient_rows:\n",
    "            try:\n",
    "                # Extract name\n",
    "                name_elem = row.find_element(By.CSS_SELECTOR, '.flex.gap-3.items-center .flex-col p')\n",
    "                ingredient_name = name_elem.text.strip()\n",
    "\n",
    "                # Extract amount + unit\n",
    "                amount_elem = row.find_element(By.CSS_SELECTOR, 'p.text-body-md.text-label-secondary')\n",
    "                amount_text = amount_elem.text.strip()\n",
    "\n",
    "                print(f\"- {ingredient_name}: {amount_text}\")\n",
    "            except Exception as e:\n",
    "                print(f\"Skipped one row due to error: {e}\")\n",
    "\n",
    "        time.sleep(1)\n",
    "        driver.back()\n",
    "        wait.until(EC.presence_of_all_elements_located((By.CSS_SELECTOR, \"a.group\")))\n",
    "\n",
    "    # Go to next pagination page if exists\n",
    "    try:\n",
    "        next_page_selector = f'nav[aria-label=\"Pagination\"] a[href*=\"page={page + 1}\"]'\n",
    "        driver.find_element(By.CSS_SELECTOR, next_page_selector)\n",
    "        page += 1\n",
    "    except:\n",
    "        print(\"No more pages.\")\n",
    "        break\n",
    "\n",
    "driver.quit()\n"
   ]
  }
 ],
 "metadata": {
  "kernelspec": {
   "display_name": "nlphw1",
   "language": "python",
   "name": "python3"
  },
  "language_info": {
   "codemirror_mode": {
    "name": "ipython",
    "version": 3
   },
   "file_extension": ".py",
   "mimetype": "text/x-python",
   "name": "python",
   "nbconvert_exporter": "python",
   "pygments_lexer": "ipython3",
   "version": "3.12.0"
  }
 },
 "nbformat": 4,
 "nbformat_minor": 5
}
